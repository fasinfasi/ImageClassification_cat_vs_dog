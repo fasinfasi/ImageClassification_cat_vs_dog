{
 "cells": [
  {
   "cell_type": "code",
   "execution_count": 3,
   "id": "b5beb2c5-da12-4dfa-91fa-eeb2b7944f45",
   "metadata": {},
   "outputs": [
    {
     "name": "stderr",
     "output_type": "stream",
     "text": [
      "WARNING:absl:Compiled the loaded model, but the compiled metrics have yet to be built. `model.compile_metrics` will be empty until you train or evaluate the model.\n"
     ]
    },
    {
     "name": "stdout",
     "output_type": "stream",
     "text": [
      "INFO:tensorflow:Assets written to: C:\\Users\\HP\\AppData\\Local\\Temp\\tmp4ju7p7bk\\assets\n"
     ]
    },
    {
     "name": "stderr",
     "output_type": "stream",
     "text": [
      "INFO:tensorflow:Assets written to: C:\\Users\\HP\\AppData\\Local\\Temp\\tmp4ju7p7bk\\assets\n"
     ]
    },
    {
     "name": "stdout",
     "output_type": "stream",
     "text": [
      "Saved artifact at 'C:\\Users\\HP\\AppData\\Local\\Temp\\tmp4ju7p7bk'. The following endpoints are available:\n",
      "\n",
      "* Endpoint 'serve'\n",
      "  args_0 (POSITIONAL_ONLY): TensorSpec(shape=(None, 150, 150, 3), dtype=tf.float32, name='input_layer')\n",
      "Output Type:\n",
      "  TensorSpec(shape=(None, 1), dtype=tf.float32, name=None)\n",
      "Captures:\n",
      "  1899057052752: TensorSpec(shape=(), dtype=tf.resource, name=None)\n",
      "  1899057051984: TensorSpec(shape=(), dtype=tf.resource, name=None)\n",
      "  1899057048720: TensorSpec(shape=(), dtype=tf.resource, name=None)\n",
      "  1899057051792: TensorSpec(shape=(), dtype=tf.resource, name=None)\n",
      "  1899057052560: TensorSpec(shape=(), dtype=tf.resource, name=None)\n",
      "  1899057050640: TensorSpec(shape=(), dtype=tf.resource, name=None)\n",
      "  1899057051216: TensorSpec(shape=(), dtype=tf.resource, name=None)\n",
      "  1899057048912: TensorSpec(shape=(), dtype=tf.resource, name=None)\n",
      "  1899057048336: TensorSpec(shape=(), dtype=tf.resource, name=None)\n",
      "  1899057049680: TensorSpec(shape=(), dtype=tf.resource, name=None)\n"
     ]
    }
   ],
   "source": [
    "# To reduce model size by converting model to Tensorflow Lite Model\n",
    "\n",
    "import tensorflow as tf\n",
    "\n",
    "com_model = tf.keras.models.load_model('../models/cat_dog_classifier.h5')\n",
    "# Convert to TFLite without quantization (baseline)\n",
    "converter = tf.lite.TFLiteConverter.from_keras_model(com_model)\n",
    "tflite_model = converter.convert()\n",
    "\n",
    "with open('../models/model_fp32.tflite', 'wb') as f:\n",
    "    f.write(tflite_model)"
   ]
  },
  {
   "cell_type": "code",
   "execution_count": null,
   "id": "9cfb6548-d60f-4e1b-97dd-b95d7ba86bb9",
   "metadata": {},
   "outputs": [],
   "source": []
  }
 ],
 "metadata": {
  "kernelspec": {
   "display_name": "Python (base)",
   "language": "python",
   "name": "base"
  },
  "language_info": {
   "codemirror_mode": {
    "name": "ipython",
    "version": 3
   },
   "file_extension": ".py",
   "mimetype": "text/x-python",
   "name": "python",
   "nbconvert_exporter": "python",
   "pygments_lexer": "ipython3",
   "version": "3.12.7"
  }
 },
 "nbformat": 4,
 "nbformat_minor": 5
}
